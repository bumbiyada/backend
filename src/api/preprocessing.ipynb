{
 "cells": [
  {
   "cell_type": "markdown",
   "metadata": {},
   "source": [
    "## Предобработка EXCEL to BD"
   ]
  },
  {
   "cell_type": "code",
   "execution_count": 18,
   "metadata": {},
   "outputs": [
    {
     "name": "stdout",
     "output_type": "stream",
     "text": [
      "тест\n"
     ]
    }
   ],
   "source": [
    "import xlwings as xw\n",
    "file_name = str(input())\n",
    "wb = xw.Book(file_name + '.xlsx')\n",
    "ws = wb.sheets[\"TDSheet\"]\n",
    "last_row = ws.range(1,1).end('down').row\n",
    "\n",
    "ws.range((1,1),(last_row,1)).insert()\n",
    "ws.range(1,1).value = 'id'\n",
    "\"\"\" HEHEHE \"\"\"\n",
    "\n",
    "if ws.range(1,6).value == 'Месяц':\n",
    "    ws.range((1,6),(last_row,6)).delete()\n",
    "ws.range(1,2).value = 'Foiv'\n",
    "ws.range(1,3).value = 'Document_type'\n",
    "ws.range(1,5).value = 'Document_number'\n",
    "ws.range(1,4).value = 'Document_init_data'\n",
    "ws.range(1,7).value = 'Stage_name'\n",
    "ws.range(1,6).value = 'Stage_data'\n",
    "ws.range(1,8).value = 'Stage_user'\n",
    "ws.range(1,9).value = 'Is_aborted'\n",
    "ws.range(1,10).value = 'Is_done'\n",
    "ws.range(1,11).value = 'Marked_on_delete'\n",
    "\"\"\" HOHOHO \"\"\"\n",
    "for i in range(2,last_row + 1,1):\n",
    "    #ws.range(i,1).value = i - 1\n",
    "    if ws.range(i, 9).value == \"Нет\":\n",
    "        ws.range(i,9).value = 0\n",
    "    elif ws.range(i, 9).value == \"Да\":\n",
    "        ws.range(i,9).value = 1\n",
    "    else:\n",
    "        ws.range(i,9).value = ''\n",
    "    if ws.range(i, 10).value == 'Нет':\n",
    "        ws.range(i,10).value = 0\n",
    "    elif ws.range(i, 10).value == 'Да':\n",
    "        ws.range(i,10).value = 1\n",
    "    else:\n",
    "        ws.range(i,10).value = ''\n",
    "    if ws.range(i, 11).value == 'Нет':\n",
    "        ws.range(i,11).value = 0\n",
    "    elif ws.range(i, 11).value == 'Да':\n",
    "        ws.range(i,11).value = 1\n",
    "    else:\n",
    "        ws.range(i,11).value = ''\n",
    "#wb.save()\n",
    "#wb.close()"
   ]
  },
  {
   "cell_type": "code",
   "execution_count": null,
   "metadata": {},
   "outputs": [],
   "source": []
  }
 ],
 "metadata": {
  "kernelspec": {
   "display_name": "Python 3",
   "language": "python",
   "name": "python3"
  },
  "language_info": {
   "codemirror_mode": {
    "name": "ipython",
    "version": 3
   },
   "file_extension": ".py",
   "mimetype": "text/x-python",
   "name": "python",
   "nbconvert_exporter": "python",
   "pygments_lexer": "ipython3",
   "version": "3.8.5"
  }
 },
 "nbformat": 4,
 "nbformat_minor": 4
}
